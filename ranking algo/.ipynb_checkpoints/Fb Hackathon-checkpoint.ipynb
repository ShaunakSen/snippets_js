{
 "cells": [
  {
   "cell_type": "markdown",
   "metadata": {},
   "source": [
    "## FB Hackathon test questions solutions"
   ]
  },
  {
   "cell_type": "code",
   "execution_count": 14,
   "metadata": {},
   "outputs": [
    {
     "name": "stdout",
     "output_type": "stream",
     "text": [
      "['4321', '3211'] ['5432', '4302']\n"
     ]
    },
    {
     "data": {
      "text/plain": [
       "8"
      ]
     },
     "execution_count": 14,
     "metadata": {},
     "output_type": "execute_result"
    }
   ],
   "source": [
    "def minimumMoves(a, m):\n",
    "    a = [str(x) for x in a]\n",
    "    m = [str(x) for x in m]\n",
    "    print (a , m)\n",
    "    return sum([\n",
    "        abs(int(f) - int(s)) \n",
    "        for x, y in zip(a, m) \n",
    "        for f, s in zip(x, y)\n",
    "    ])\n",
    "\n",
    "a = [4321, 3211]\n",
    "m = [5432, 4302]\n",
    "\n",
    "minimumMoves(a, m)"
   ]
  },
  {
   "cell_type": "code",
   "execution_count": 21,
   "metadata": {},
   "outputs": [
    {
     "name": "stdout",
     "output_type": "stream",
     "text": [
      "8\n"
     ]
    }
   ],
   "source": [
    "a = [str(x) for x in a]\n",
    "m = [str(x) for x in m]\n",
    "\n",
    "total = 0\n",
    "\n",
    "for x in range(len(a)):\n",
    "    for y in range(len(a[x])):\n",
    "        total += abs(int(a[x][y]) - int(m[x][y]))\n",
    "        \n",
    "print (total)\n",
    "    "
   ]
  },
  {
   "cell_type": "code",
   "execution_count": 5,
   "metadata": {},
   "outputs": [],
   "source": [
    "a = [4321, 3211]\n",
    "m = [5432, 4302]"
   ]
  },
  {
   "cell_type": "code",
   "execution_count": 12,
   "metadata": {},
   "outputs": [
    {
     "data": {
      "text/plain": [
       "2202"
      ]
     },
     "execution_count": 12,
     "metadata": {},
     "output_type": "execute_result"
    }
   ],
   "source": [
    "minimumMoves()"
   ]
  },
  {
   "cell_type": "code",
   "execution_count": 8,
   "metadata": {
    "scrolled": false
   },
   "outputs": [
    {
     "name": "stdout",
     "output_type": "stream",
     "text": [
      "4321 5432\n",
      "3211 4302\n"
     ]
    }
   ],
   "source": [
    "for i, j in zip(a, m):\n",
    "    print (i, j)"
   ]
  },
  {
   "cell_type": "code",
   "execution_count": 48,
   "metadata": {},
   "outputs": [
    {
     "name": "stdout",
     "output_type": "stream",
     "text": [
      "[4, 4, 4, 4]\n"
     ]
    }
   ],
   "source": [
    "\n",
    "piles = sorted([4, 4, 4 , 4], reverse=True)\n",
    "\n",
    "# find 1st and 2nd max\n",
    "\n",
    "\n",
    "\n",
    "moves = 0\n",
    "\n",
    "def move_stuff(piles):\n",
    "    \n",
    "    global moves\n",
    "    \n",
    "    print (piles)\n",
    "\n",
    "    first_max = piles[0]\n",
    "\n",
    "    sec_max_found = False\n",
    "\n",
    "    for x in range(1, len(piles)):\n",
    "        if (piles[x] < first_max):\n",
    "            sec_max = piles[x]\n",
    "            sec_max_found = True\n",
    "            break\n",
    "    \n",
    "    if not sec_max_found:\n",
    "        return \n",
    "\n",
    "    if sec_max_found:\n",
    "        first_max = sec_max\n",
    "        moves +=x \n",
    "\n",
    "    for a in range(x):\n",
    "        piles[a] = sec_max\n",
    "\n",
    "    move_stuff(piles)\n",
    "    return moves\n",
    "\n",
    "move_stuff(piles)\n",
    "\n",
    "\n"
   ]
  },
  {
   "cell_type": "code",
   "execution_count": 8,
   "metadata": {},
   "outputs": [
    {
     "name": "stdout",
     "output_type": "stream",
     "text": [
      "[7, 15, 22, 37, 49, 60]\n",
      "8 15 7\n",
      "16 22 6\n",
      "23 37 14\n"
     ]
    },
    {
     "data": {
      "text/plain": [
       "14"
      ]
     },
     "execution_count": 8,
     "metadata": {},
     "output_type": "execute_result"
    }
   ],
   "source": [
    "def find_longest_clean_seq(badNumbers, left, right):\n",
    "    badNumbers = sorted(badNumbers)\n",
    "    print (badNumbers)\n",
    "    longest_seq = badNumbers[0] - left\n",
    "    a = badNumbers[0] + 1\n",
    "    \n",
    "    x = badNumbers[0] + 1\n",
    "    while x <= right:\n",
    "        if x in badNumbers:\n",
    "            seq = x - a\n",
    "            if seq > longest_seq:\n",
    "                longest_seq = seq\n",
    "            print (a, x, seq)\n",
    "            a = x + 1\n",
    "            \n",
    "        x+=1\n",
    "        \n",
    "    last_seq = right - a + 1\n",
    "    if last_seq > longest_seq:\n",
    "        return last_seq\n",
    "    else:\n",
    "        return longest_seq\n",
    "    \n",
    "    \n",
    "\n",
    "badNumbers = [37, 7, 22, 15, 49, 60]\n",
    "\n",
    "left = 3\n",
    "right = 48\n",
    "\n",
    "find_longest_clean_seq(badNumbers, left, right)"
   ]
  }
 ],
 "metadata": {
  "kernelspec": {
   "display_name": "Python 3",
   "language": "python",
   "name": "python3"
  },
  "language_info": {
   "codemirror_mode": {
    "name": "ipython",
    "version": 3
   },
   "file_extension": ".py",
   "mimetype": "text/x-python",
   "name": "python",
   "nbconvert_exporter": "python",
   "pygments_lexer": "ipython3",
   "version": "3.6.8"
  }
 },
 "nbformat": 4,
 "nbformat_minor": 2
}
